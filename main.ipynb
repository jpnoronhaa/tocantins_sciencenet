{
 "cells": [
  {
   "cell_type": "code",
   "execution_count": 1,
   "id": "93bb9060-6359-459d-bcf1-97e3817f1949",
   "metadata": {},
   "outputs": [],
   "source": [
    "import pandas as pd\n",
    "import networkx as nx\n",
    "import numpy as np\n",
    "from pyalex import Works, Authors\n",
    "import requests"
   ]
  },
  {
   "cell_type": "code",
   "execution_count": 2,
   "id": "4b52f6da-f547-4801-b6af-ba10985fa608",
   "metadata": {},
   "outputs": [],
   "source": [
    "filename_posgraduacao_alimentos = 'data/works_posgraduacao_alimentos.csv'\n",
    "df_posgraduacao_alimentos = pd.read_csv(filename_posgraduacao_alimentos, low_memory=False)"
   ]
  },
  {
   "cell_type": "code",
   "execution_count": 15,
   "id": "4496b81d-7403-49e0-ad57-9455d4d94397",
   "metadata": {},
   "outputs": [],
   "source": [
    "authors_ids_posgraduacao_alimentos = set()\n",
    "for _, row in df_posgraduacao_alimentos.iterrows():\n",
    "        ids = row['authorships.author.id'].split('|')\n",
    "        authors_ids_posgraduacao_alimentos.update(ids)"
   ]
  },
  {
   "cell_type": "code",
   "execution_count": 16,
   "id": "b173e0a9-2820-48f3-b30b-c2f344280275",
   "metadata": {
    "scrolled": true
   },
   "outputs": [],
   "source": [
    "original_url = 'https://api.openalex.org/authors?filter=id:{}&select=id,display_name,orcid,affiliations,cited_by_count,works_count&per-page=200&page={}'\n",
    "\n",
    "def chunk_ids(ids_list, chunk_size=40):\n",
    "    for i in range(0, len(ids_list), chunk_size):\n",
    "        yield ids_list[i:i + chunk_size]\n",
    "\n",
    "authors_data_posgraduacao_alimentos = []\n",
    "\n",
    "for ids_chunk in chunk_ids(list(authors_ids_posgraduacao_alimentos)):\n",
    "    page = 1\n",
    "    ids = '|'.join(ids_chunk)\n",
    "    has_more_pages = True\n",
    "    fewer_than_10k_results = True\n",
    "    \n",
    "    while has_more_pages and fewer_than_10k_results:\n",
    "        \n",
    "        url = original_url.format(ids, page)\n",
    "        page_with_results = requests.get(url).json()\n",
    "        \n",
    "        results = page_with_results['results']\n",
    "        for author in results:\n",
    "            if author['affiliations']:\n",
    "                recent_affiliation = max(author['affiliations'], key=lambda x: max(x['years']))\n",
    "                institution = recent_affiliation['institution']\n",
    "                recent_year = max(recent_affiliation['years'])\n",
    "            else:\n",
    "                institution = {'display_name': None, 'country_code': None, 'type': None}\n",
    "                recent_year = None\n",
    "            \n",
    "            authors_data_posgraduacao_alimentos.append({\n",
    "                'id': author['id'],\n",
    "                'display_name': author['display_name'],\n",
    "                'orcid': author.get('orcid'),\n",
    "                'institution': institution['display_name'],\n",
    "                'country_code': institution['country_code'],\n",
    "                'institution_type': institution['type'],\n",
    "                'affiliation_year': recent_year,\n",
    "                'cited_by_count': author['cited_by_count'],\n",
    "                'works_count': author['works_count']\n",
    "            })\n",
    "    \n",
    "        page += 1\n",
    "        per_page = page_with_results['meta']['per_page']\n",
    "        has_more_pages = len(results) == per_page\n",
    "        fewer_than_10k_results = per_page * page <= 10000\n",
    "\n",
    "df_authors_posgraduacao_alimentos = pd.DataFrame(authors_data_posgraduacao_alimentos)"
   ]
  },
  {
   "cell_type": "code",
   "execution_count": 17,
   "id": "f542503a-3c05-4f63-9329-db2c2b053d56",
   "metadata": {},
   "outputs": [],
   "source": [
    "df_authors_posgraduacao_alimentos.to_csv('data/authors_posgraduacao_alimentos.csv', index=False)"
   ]
  }
 ],
 "metadata": {
  "kernelspec": {
   "display_name": "Python 3 (ipykernel)",
   "language": "python",
   "name": "python3"
  },
  "language_info": {
   "codemirror_mode": {
    "name": "ipython",
    "version": 3
   },
   "file_extension": ".py",
   "mimetype": "text/x-python",
   "name": "python",
   "nbconvert_exporter": "python",
   "pygments_lexer": "ipython3",
   "version": "3.12.3"
  }
 },
 "nbformat": 4,
 "nbformat_minor": 5
}
